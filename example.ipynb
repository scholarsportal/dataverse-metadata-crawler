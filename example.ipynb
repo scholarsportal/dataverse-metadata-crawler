{
 "cells": [
  {
   "cell_type": "code",
   "execution_count": null,
   "metadata": {},
   "outputs": [],
   "source": [
    "# Set your configuration here\n",
    "BASE_URL = 'TARGET_REPO_URL'  # Base URL of the repository; e.g., \"https://demo.borealisdata.ca/\"\n",
    "API_KEY = 'YOUR_API_KEY'  # API key found in the user settings. If you chose not to use an API key, delete this line.."
   ]
  },
  {
   "cell_type": "code",
   "execution_count": null,
   "metadata": {},
   "outputs": [],
   "source": [
    "# Clone the dataverse-metadata-crawler repository\n",
    "!git clone https://github.com/scholarsportal/dataverse-metadata-crawler"
   ]
  },
  {
   "cell_type": "code",
   "execution_count": null,
   "metadata": {},
   "outputs": [],
   "source": [
    "# Change the working directory to the cloned repository\n",
    "import os\n",
    "os.chdir('dataverse-metadata-crawler')"
   ]
  }
 ],
 "metadata": {
  "kernelspec": {
   "display_name": ".venv",
   "language": "python",
   "name": "python3"
  },
  "language_info": {
   "codemirror_mode": {
    "name": "ipython",
    "version": 3
   },
   "file_extension": ".py",
   "mimetype": "text/x-python",
   "name": "python",
   "nbconvert_exporter": "python",
   "pygments_lexer": "ipython3",
   "version": "3.12.3"
  }
 },
 "nbformat": 4,
 "nbformat_minor": 2
}
